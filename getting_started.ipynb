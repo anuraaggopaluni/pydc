{
 "metadata": {
  "name": "",
  "signature": "sha256:901be518c43e5bc5448cc091317c7f22cb34145a7d787b9cb2c1f093998dd8f7"
 },
 "nbformat": 3,
 "nbformat_minor": 0,
 "worksheets": [
  {
   "cells": [
    {
     "cell_type": "markdown",
     "metadata": {},
     "source": [
      "## To Run the Notebook Offline\n",
      "\n",
      "* Execute the below code blocks while you have internet access\n",
      "* Everything is included in this repository, so you don't strictly need internet access but better to make sure"
     ]
    },
    {
     "cell_type": "markdown",
     "metadata": {},
     "source": [
      "* The current Mathjax source is included in the repository for the notebook \n",
      "* To install Mathjax locally run the following cell"
     ]
    },
    {
     "cell_type": "code",
     "collapsed": false,
     "input": [
      "from IPython.external.mathjax import install_mathjax\n",
      "install_mathjax(file=\"./MathJax-2.2.tar.gz\")"
     ],
     "language": "python",
     "metadata": {},
     "outputs": []
    },
    {
     "cell_type": "markdown",
     "metadata": {},
     "source": [
      "* Download and cache the datasets in the current notebook directory"
     ]
    },
    {
     "cell_type": "code",
     "collapsed": false,
     "input": [
      "import statsmodels.api as sm\n",
      "\n",
      "\n",
      "_ = sm.datasets.get_rdataset(\"Guerry\", \"HistData\", cache=\".cache\")\n",
      "_ = sm.datasets.get_rdataset(\"Duncan\", \"car\", cache=\".cache\")"
     ],
     "language": "python",
     "metadata": {},
     "outputs": []
    },
    {
     "cell_type": "markdown",
     "metadata": {},
     "source": [
      "# Introduction to Statsmodels\n",
      "## Statistical Modeling in Python\n",
      "\n",
      "<table align=\"left\" style=\"border:none\">\n",
      "<tr style=\"border:none\"><td style=\"border:none\">by Skipper Seabold</tr>\n",
      "<tr style=\"border:none\"><td style=\"text-align:right;border:none\">[@jseabold](https://twitter.com/jseabold/)</td></tr>\n",
      "<tr style=\"border:none\"><td style=\"text-align:right;border:none\">[github](http://github.com/jseabold)</td></tr>\n",
      "<table>"
     ]
    },
    {
     "cell_type": "markdown",
     "metadata": {},
     "source": [
      "## IPython Notebooks in 30 Seconds\n",
      "\n",
      "* This is an interactive, editable, executable document\n",
      "* Click help for help! See, especially, the keyboard shortcuts.\n",
      "* Cells can contain Markdown, Python (R or Julia) code, and $\\LaTeX$\n",
      "* Extensive documentation [here](http://ipython.org/notebook)\n",
      "* You can share your notebooks via [gist](http://gist.github.com) and [nbviewer](http://nbviewer.ipython.org/)"
     ]
    },
    {
     "cell_type": "markdown",
     "metadata": {},
     "source": [
      "# Getting Started"
     ]
    },
    {
     "cell_type": "markdown",
     "metadata": {},
     "source": [
      "## Overview"
     ]
    },
    {
     "cell_type": "markdown",
     "metadata": {},
     "source": [
      "* Python library for doing statistical modeling, data exploration, and hypothesis testing\n",
      "* [Documentation](http://statsmodels.sourceforge.net/)\n",
      "* [Mailing list](https://groups.google.com/forum/#!forum/pystatsmodels)\n",
      "* [Stack Overflow](https://stackoverflow.com/questions/tagged/statsmodels)\n",
      "* What kind of models?\n",
      "  * Linear Regression Models\n",
      "  * Generalized Linear Models\n",
      "  * Discrete Choice Models\n",
      "  * Robust Models\n",
      "    * M-estimators\n",
      "    * Quantile Regression\n",
      "    * Robust covariances for models\n",
      "  * Nonparametric Statistics\n",
      "    * Univariate KDE\n",
      "    * Multivariate KDE\n",
      "    * Kernel Regression\n",
      "    * lowess\n",
      "  * \"Statistics\" models and tests\n",
      "    * ANOVA\n",
      "    * Power and sample size calculations\n",
      "    * Multiple comparisons testing\n",
      "  * Empirical Likelihood\n",
      "  * Generalized Method of Moments (GMM)\n",
      "  * Generic Maximum Likelihood\n",
      "  * Time-series analysis\n",
      "    * Modeling and forecasting\n",
      "    * Seasonal decomposition\n",
      "    * Filters\n",
      "    * Plotting\n",
      "  * More\n",
      "* What else?\n",
      "  * Missing data handling\n",
      "  * Datasets for examples\n",
      "  * Statistical tests\n",
      "  * Plotting\n",
      "  * Many more models and features are in development\n",
      "  \n",
      "**FAQ**:\n",
      "\n",
      "* Why not use R?\n",
      "* What's the difference between statsmodels and scikit-learn?"
     ]
    },
    {
     "cell_type": "markdown",
     "metadata": {},
     "source": [
      "## Import Conventions"
     ]
    },
    {
     "cell_type": "code",
     "collapsed": false,
     "input": [
      "import numpy as np\n",
      "import pandas as pd\n",
      "import matplotlib.pyplot as plt\n",
      "import statsmodels.api as sm"
     ],
     "language": "python",
     "metadata": {},
     "outputs": []
    },
    {
     "cell_type": "heading",
     "level": 4,
     "metadata": {},
     "source": [
      "Notebook Config"
     ]
    },
    {
     "cell_type": "markdown",
     "metadata": {},
     "source": [
      "* Disable showing DataFrames as HTML tables\n",
      "* Disable a particular warning in Pandas"
     ]
    },
    {
     "cell_type": "code",
     "collapsed": false,
     "input": [
      "pd.set_option('notebook_repr_html', False)\n",
      "pd.set_option('mode.chained_assignment', None)"
     ],
     "language": "python",
     "metadata": {},
     "outputs": []
    },
    {
     "cell_type": "heading",
     "level": 2,
     "metadata": {},
     "source": [
      "Quick Example"
     ]
    },
    {
     "cell_type": "code",
     "collapsed": false,
     "input": [
      "dta = sm.datasets.get_rdataset(\"Guerry\", \"HistData\", cache=\".cache\")\n",
      "\n",
      "dta.data.head()"
     ],
     "language": "python",
     "metadata": {},
     "outputs": []
    },
    {
     "cell_type": "markdown",
     "metadata": {},
     "source": [
      "This is a Dataset object"
     ]
    },
    {
     "cell_type": "code",
     "collapsed": false,
     "input": [
      "dta?"
     ],
     "language": "python",
     "metadata": {},
     "outputs": []
    },
    {
     "cell_type": "markdown",
     "metadata": {},
     "source": [
      "The `data` attribute holds a pandas `DataFrame`"
     ]
    },
    {
     "cell_type": "code",
     "collapsed": false,
     "input": [
      "dta = dta.data"
     ],
     "language": "python",
     "metadata": {},
     "outputs": []
    },
    {
     "cell_type": "markdown",
     "metadata": {},
     "source": [
      "To use formulas, access the lowercase name model through the formula namespace "
     ]
    },
    {
     "cell_type": "code",
     "collapsed": false,
     "input": [
      "model = sm.formula.ols(\"Lottery ~ Literacy + np.log(Pop1831)\", data=dta)"
     ],
     "language": "python",
     "metadata": {},
     "outputs": []
    },
    {
     "cell_type": "markdown",
     "metadata": {},
     "source": [
      "The `fit` method of a model returns a model-specific Results class"
     ]
    },
    {
     "cell_type": "code",
     "collapsed": false,
     "input": [
      "results = model.fit()"
     ],
     "language": "python",
     "metadata": {},
     "outputs": []
    },
    {
     "cell_type": "markdown",
     "metadata": {},
     "source": [
      "Result classes hold useful methods and attributes "
     ]
    },
    {
     "cell_type": "code",
     "collapsed": false,
     "input": [
      "print(results.summary())"
     ],
     "language": "python",
     "metadata": {},
     "outputs": []
    },
    {
     "cell_type": "code",
     "collapsed": false,
     "input": [
      "results.params"
     ],
     "language": "python",
     "metadata": {},
     "outputs": []
    },
    {
     "cell_type": "code",
     "collapsed": false,
     "input": [
      "results.tvalues"
     ],
     "language": "python",
     "metadata": {},
     "outputs": []
    },
    {
     "cell_type": "code",
     "collapsed": false,
     "input": [
      "results.pvalues"
     ],
     "language": "python",
     "metadata": {},
     "outputs": []
    },
    {
     "cell_type": "code",
     "collapsed": false,
     "input": [
      "type(results.params)"
     ],
     "language": "python",
     "metadata": {},
     "outputs": []
    },
    {
     "cell_type": "markdown",
     "metadata": {},
     "source": [
      "See what else is available\n",
      "    \n",
      "    results.<TAB>"
     ]
    },
    {
     "cell_type": "markdown",
     "metadata": {},
     "source": [
      "## Datasets"
     ]
    },
    {
     "cell_type": "markdown",
     "metadata": {},
     "source": [
      "* [Packaged datasets](http://statsmodels.sourceforge.net/devel/datasets/index.html)"
     ]
    },
    {
     "cell_type": "code",
     "collapsed": false,
     "input": [
      "blacklist = ['clear_data_home', 'utils', 'get_data_home',\n",
      "             'get_rdataset']\n",
      "[d for d in dir(sm.datasets) if not d.startswith('_')\n",
      " and d not in blacklist]"
     ],
     "language": "python",
     "metadata": {},
     "outputs": []
    },
    {
     "cell_type": "markdown",
     "metadata": {},
     "source": [
      "* R datasets are available via `get_rdataset`"
     ]
    },
    {
     "cell_type": "code",
     "collapsed": false,
     "input": [
      "sm.datasets.get_rdataset"
     ],
     "language": "python",
     "metadata": {},
     "outputs": []
    },
    {
     "cell_type": "markdown",
     "metadata": {},
     "source": [
      "* As you see above in the first cell, you can cache these datasets for offline use"
     ]
    },
    {
     "cell_type": "markdown",
     "metadata": {},
     "source": [
      "* Stata datasets available via webuse\n",
      "* Import may change. See [issue](https://github.com/statsmodels/statsmodels/issues/1571) for updates."
     ]
    },
    {
     "cell_type": "markdown",
     "metadata": {},
     "source": [
      "```python\n",
      "from statsmodels.tools.tools import webuse\n",
      "dta = webuse(\"auto\")\n",
      "print dta.head()\n",
      "\n",
      "            make  price  mpg  rep78  headroom  trunk  weight  length  turn  \\\n",
      "0    AMC Concord   4099   22      3       2.5     11    2930     186    40   \n",
      "1      AMC Pacer   4749   17      3       3.0     11    3350     173    40   \n",
      "2     AMC Spirit   3799   22   -999       3.0     12    2640     168    35   \n",
      "3  Buick Century   4816   20      3       4.5     16    3250     196    40   \n",
      "4  Buick Electra   7827   15      4       4.0     20    4080     222    43   \n",
      "\n",
      "   displacement  gear_ratio  foreign  \n",
      "0           121        3.58        0  \n",
      "1           258        2.53        0  \n",
      "2           121        3.08        0  \n",
      "3           196        2.93        0  \n",
      "4           350        2.41        0  \n",
      "\n",
      "[5 rows x 12 columns]\n",
      " ```"
     ]
    },
    {
     "cell_type": "markdown",
     "metadata": {},
     "source": [
      "## Non-Formula API\n",
      "\n",
      "* Interacting with statsmodels without using formula\n",
      "* When not using formulae we pass a left-hand side and right-hand side variable to the models\n",
      "  * We call these `endog` (y) and `exog` (X) for now $y = X\\beta + \\epsilon$\n",
      "  * `exog` (X) is sometimes optional and sometimes not available at all (e.g., for `UnivariateKDE`)\n",
      "* These variables can be array-like or pandas variables"
     ]
    },
    {
     "cell_type": "code",
     "collapsed": false,
     "input": [
      "dta = sm.datasets.get_rdataset(\"Guerry\", \"HistData\", cache=\".cache\")\n",
      "dta = dta.data"
     ],
     "language": "python",
     "metadata": {},
     "outputs": []
    },
    {
     "cell_type": "code",
     "collapsed": false,
     "input": [
      "y = dta.Lottery\n",
      "X = dta[['Literacy', 'Pop1831']]\n",
      "X.Pop1831 = np.log(X.Pop1831)\n",
      "X['constant'] = 1"
     ],
     "language": "python",
     "metadata": {},
     "outputs": []
    },
    {
     "cell_type": "markdown",
     "metadata": {},
     "source": [
      "* Models outside of the formula namespace are Capitalized or CamelCased"
     ]
    },
    {
     "cell_type": "code",
     "collapsed": false,
     "input": [
      "results = sm.OLS(y, X).fit()"
     ],
     "language": "python",
     "metadata": {},
     "outputs": []
    },
    {
     "cell_type": "markdown",
     "metadata": {},
     "source": [
      "* All results instances hold a reference to the model"
     ]
    },
    {
     "cell_type": "code",
     "collapsed": false,
     "input": [
      "results.model"
     ],
     "language": "python",
     "metadata": {},
     "outputs": []
    },
    {
     "cell_type": "markdown",
     "metadata": {},
     "source": [
      "## Missing Data\n",
      "\n",
      "* What if we had some missing data in the above?\n",
      "* For efficiency reasons, the default for statsmodels is to do no checking\n",
      "* If you want to handle missing data use the `missing` keyword to a Model\n",
      "  * For now, the only methods are `drop` and `raise`"
     ]
    },
    {
     "cell_type": "code",
     "collapsed": false,
     "input": [
      "X.ix[[0,3], 'Pop1831'] = np.nan\n",
      "X.head()"
     ],
     "language": "python",
     "metadata": {},
     "outputs": []
    },
    {
     "cell_type": "code",
     "collapsed": false,
     "input": [
      "results = sm.OLS(y, X, missing='drop').fit()"
     ],
     "language": "python",
     "metadata": {},
     "outputs": []
    },
    {
     "cell_type": "code",
     "collapsed": false,
     "input": [
      "results.fittedvalues.head()"
     ],
     "language": "python",
     "metadata": {},
     "outputs": []
    },
    {
     "cell_type": "markdown",
     "metadata": {},
     "source": [
      "## Takeaways\n",
      "\n",
      "* `formula namespace`\n",
      "  * Formulas are handled via the **patsy** package. See their [excellent documentation](http://patsy.readthedocs.org/en/latest/) for more information\n",
      "  * [Our primer on using formulas](http://statsmodels.sourceforge.net/devel/example_formulas.html)\n",
      "  \n",
      "* model -> fit -> results workflow\n",
      "* Pandas-in, pandas-out\n",
      "* Handle missing values via the `missing` keyword\n",
      "* Datasets"
     ]
    },
    {
     "cell_type": "markdown",
     "metadata": {},
     "source": [
      "## Linear Regression Models"
     ]
    },
    {
     "cell_type": "markdown",
     "metadata": {},
     "source": [
      "### Duncan's Prestige data\n",
      "\n",
      "* Data on the perceived prestige of occupations in the 1950s"
     ]
    },
    {
     "cell_type": "code",
     "collapsed": false,
     "input": [
      "prestige = sm.datasets.get_rdataset(\"Duncan\", \"car\", cache=\".cache\")"
     ],
     "language": "python",
     "metadata": {},
     "outputs": []
    },
    {
     "cell_type": "code",
     "collapsed": false,
     "input": [
      "prestige = prestige.data"
     ],
     "language": "python",
     "metadata": {},
     "outputs": []
    },
    {
     "cell_type": "code",
     "collapsed": false,
     "input": [
      "prestige.head()"
     ],
     "language": "python",
     "metadata": {},
     "outputs": []
    },
    {
     "cell_type": "markdown",
     "metadata": {},
     "source": [
      "### Fit an OLS model"
     ]
    },
    {
     "cell_type": "code",
     "collapsed": false,
     "input": [
      "prestige_model = sm.formula.ols(\"prestige ~ income + education\", data=prestige).fit()"
     ],
     "language": "python",
     "metadata": {},
     "outputs": []
    },
    {
     "cell_type": "code",
     "collapsed": false,
     "input": [
      "print results.summary()"
     ],
     "language": "python",
     "metadata": {},
     "outputs": []
    },
    {
     "cell_type": "markdown",
     "metadata": {},
     "source": [
      "* Let's test if the effect for income and education is the same"
     ]
    },
    {
     "cell_type": "code",
     "collapsed": false,
     "input": [
      "print prestige_model.f_test('income = education')"
     ],
     "language": "python",
     "metadata": {},
     "outputs": []
    },
    {
     "cell_type": "markdown",
     "metadata": {},
     "source": [
      "* Looks like it\n",
      "* Are we sure?\n",
      "* Let's look at some regression diagnostics\n",
      "* Influence and [Leverage statistics](https://en.wikipedia.org/wiki/Leverage_(statistics))\n",
      "* **Influence** tells how much an estimate might vary if an observation were excluded\n",
      "  * It helps identify outliers in the response space\n",
      "* **Leverage** tells us about the potential for influence\n",
      "  * It tells us how different an observation for a predictor is vs. the other observations\n",
      "  * It identifies \"extreme\" values\n",
      "  * High leverage outliers are influential\n",
      "  * Low leverage outliers are less influential\n",
      "  * High leverage points that are not outliers are less influential"
     ]
    },
    {
     "cell_type": "code",
     "collapsed": false,
     "input": [
      "infl_stats = prestige_model.get_influence()"
     ],
     "language": "python",
     "metadata": {},
     "outputs": []
    },
    {
     "cell_type": "code",
     "collapsed": false,
     "input": [
      "infl = infl_stats.summary_frame()"
     ],
     "language": "python",
     "metadata": {},
     "outputs": []
    },
    {
     "cell_type": "code",
     "collapsed": false,
     "input": [
      "infl.head()"
     ],
     "language": "python",
     "metadata": {},
     "outputs": []
    },
    {
     "cell_type": "code",
     "collapsed": false,
     "input": [
      "infl.max()"
     ],
     "language": "python",
     "metadata": {},
     "outputs": []
    },
    {
     "cell_type": "code",
     "collapsed": false,
     "input": [
      "infl.min()"
     ],
     "language": "python",
     "metadata": {},
     "outputs": []
    },
    {
     "cell_type": "code",
     "collapsed": false,
     "input": [
      "infl.idxmax()"
     ],
     "language": "python",
     "metadata": {},
     "outputs": []
    },
    {
     "cell_type": "code",
     "collapsed": false,
     "input": [
      "infl.idxmin()"
     ],
     "language": "python",
     "metadata": {},
     "outputs": []
    },
    {
     "cell_type": "markdown",
     "metadata": {},
     "source": [
      "* There is a better way to summarize this information\n",
      "* Look at some diagnostic plots\n",
      "* For example, an **Influence Plot**\n",
      "* We will pass an existing axes to a plotting function. This is optional\n",
      "  * Explicit way to edit a current Axes\n",
      "* All plotting functions return a `matplotlib.Figure`"
     ]
    },
    {
     "cell_type": "code",
     "collapsed": false,
     "input": [
      "fig, ax = plt.subplots(figsize=(12,8))\n",
      "fig = sm.graphics.influence_plot(prestige_model, criterion='cooks', ax=ax)"
     ],
     "language": "python",
     "metadata": {},
     "outputs": []
    },
    {
     "cell_type": "markdown",
     "metadata": {},
     "source": [
      "* `contractor` and `reporter` have low leverage but high residual\n",
      "* `minister` and `conductor` have high leverage and high residual\n",
      "* `RR.engineer` has high leverage and low residual"
     ]
    },
    {
     "cell_type": "markdown",
     "metadata": {},
     "source": [
      "* **Partial regression plot** shows us what this means for our results"
     ]
    },
    {
     "cell_type": "code",
     "collapsed": false,
     "input": [
      "fix, ax = plt.subplots(figsize=(12,10))\n",
      "fig = sm.graphics.plot_partregress(\"prestige\", \"income\", [\"education\"], data=prestige, ax=ax)\n",
      "ax.xaxis.label.set_fontsize(22)\n",
      "ax.yaxis.label.set_fontsize(22)"
     ],
     "language": "python",
     "metadata": {},
     "outputs": []
    },
    {
     "cell_type": "markdown",
     "metadata": {},
     "source": [
      "* Let's remove these points and redo the analysis"
     ]
    },
    {
     "cell_type": "code",
     "collapsed": false,
     "input": [
      "subset = ~prestige.index.isin([\"conductor\", \"RR.engineer\", \"minister\"])\n",
      "prestige_model2 = sm.formula.ols(\"prestige ~ income + education\", \n",
      "                                 data=prestige, subset=subset).fit()\n",
      "print prestige_model2.summary()"
     ],
     "language": "python",
     "metadata": {},
     "outputs": []
    },
    {
     "cell_type": "code",
     "collapsed": false,
     "input": [
      "print(prestige_model2.f_test('income = education'))"
     ],
     "language": "python",
     "metadata": {},
     "outputs": []
    },
    {
     "cell_type": "markdown",
     "metadata": {},
     "source": [
      "## Discrete Choice Models"
     ]
    },
    {
     "cell_type": "markdown",
     "metadata": {},
     "source": [
      "* Discrete choice models are appropriate when the response variable (`endog`, `y`, etc.) is not continuous\n",
      "   * binary (dichotomous) data (yes/no)\n",
      "   * count data (0, 1, 2, ...)\n",
      "   * multinomial (polytomous, multiclass) data (Bowser/Evans/Gray/Wells...)\n",
      "   * ordinal data (worst, worse, ok, better, best)\n",
      "* Linear regression methods are inconsistent\n",
      "* Example of using Maximum Likelihood"
     ]
    },
    {
     "cell_type": "markdown",
     "metadata": {},
     "source": [
      "### Fair's Affairs data\n",
      "\n",
      "* Data on extramarital affairs\n",
      "  * Proportion of time spent having an affair\n",
      "* Reader survey done by *Redbook* in 1974\n",
      "* Used by Ray Fair as an illustration for censored regression\n",
      "* We will ignore this aspect and model whether someone has an affair using a **logit model**"
     ]
    },
    {
     "cell_type": "markdown",
     "metadata": {},
     "source": [
      "\n",
      "$$\\begin{aligned}\n",
      "Prob(Y=1)&=F(\\boldsymbol{X}, \\beta) \\cr\n",
      "Prob(Affair=1)&=\\frac{\\exp(\\beta_0+\\beta_1\\ x_1+\\dots+\\beta_k X_k)}{1+\\exp(\\beta_0+\\beta_1 x_1+\\dots+\\beta_k X_k)}\\end{aligned}$$"
     ]
    },
    {
     "cell_type": "code",
     "collapsed": false,
     "input": [
      "dta = sm.datasets.fair.load_pandas().data\n",
      "dta['affair'] = (dta.affairs > 0).astype(float)"
     ],
     "language": "python",
     "metadata": {},
     "outputs": []
    },
    {
     "cell_type": "markdown",
     "metadata": {},
     "source": [
      "* Number of affairs"
     ]
    },
    {
     "cell_type": "code",
     "collapsed": false,
     "input": [
      "print \"{:.2%}\".format(dta.affair.mean())"
     ],
     "language": "python",
     "metadata": {},
     "outputs": []
    },
    {
     "cell_type": "code",
     "collapsed": false,
     "input": [
      "affair_mod = sm.formula.logit(\"affair ~ occupation + educ + occupation_husb\"\n",
      "                              \"+ rate_marriage + age + yrs_married + children\"\n",
      "                              \" + religious\", dta).fit(disp=0)"
     ],
     "language": "python",
     "metadata": {},
     "outputs": []
    },
    {
     "cell_type": "code",
     "collapsed": false,
     "input": [
      "affair_mod.mle_retvals['converged']"
     ],
     "language": "python",
     "metadata": {},
     "outputs": []
    },
    {
     "cell_type": "code",
     "collapsed": false,
     "input": [
      "affair_mod = sm.formula.logit(\"affair ~ occupation + educ + occupation_husb\"\n",
      "                              \"+ rate_marriage + age + yrs_married + children\"\n",
      "                              \" + religious\", dta).fit(disp=0, method=\"bfgs\")"
     ],
     "language": "python",
     "metadata": {},
     "outputs": []
    },
    {
     "cell_type": "code",
     "collapsed": false,
     "input": [
      "affair_mod.mle_retvals['converged']"
     ],
     "language": "python",
     "metadata": {},
     "outputs": []
    },
    {
     "cell_type": "code",
     "collapsed": false,
     "input": [
      "affair_mod.mle_retvals.keys()"
     ],
     "language": "python",
     "metadata": {},
     "outputs": []
    },
    {
     "cell_type": "code",
     "collapsed": false,
     "input": [
      "print(affair_mod.summary())"
     ],
     "language": "python",
     "metadata": {},
     "outputs": []
    },
    {
     "cell_type": "markdown",
     "metadata": {},
     "source": [
      "* Recall discrete choice models are non-linear ($F(\\boldsymbol{X}, \\beta)$) \n",
      "* The coefficient $\\beta$ no longer tells us how the probability varies with changes in $x_i$\n",
      "* Look at the **marginal effects**"
     ]
    },
    {
     "cell_type": "code",
     "collapsed": false,
     "input": [
      "margeff = affair_mod.get_margeff()"
     ],
     "language": "python",
     "metadata": {},
     "outputs": []
    },
    {
     "cell_type": "code",
     "collapsed": false,
     "input": [
      "print(margeff.summary())"
     ],
     "language": "python",
     "metadata": {},
     "outputs": []
    },
    {
     "cell_type": "markdown",
     "metadata": {},
     "source": [
      "### Prediction\n",
      "\n",
      "* How well does our model do?\n",
      "* Let's look at a prediction table (confusion matrix)\n",
      "\n",
      "<table>\n",
      "<tr><th></th><th colspan=\"2\" style=\"text-align:center\">Actual</td></tr>\n",
      "<tr><th rowspan=\"2\">Predicted</td><td>True Negative</td><td>False Negative</td></tr>\n",
      "<tr><td>False Positive</td><td>True Positive</td></tr>\n",
      "</table>"
     ]
    },
    {
     "cell_type": "code",
     "collapsed": false,
     "input": [
      "pred_table = affair_mod.pred_table()\n",
      "pred_table"
     ],
     "language": "python",
     "metadata": {},
     "outputs": []
    },
    {
     "cell_type": "markdown",
     "metadata": {},
     "source": [
      "* **Accuracy** measure\n",
      "\n",
      "$\\mbox{accuracy} = \\frac{\\mbox{true positive} + \\mbox{true negative}}{\\mbox{nobs}}$"
     ]
    },
    {
     "cell_type": "code",
     "collapsed": false,
     "input": [
      "tn, fn, fp, tp = pred_table.flatten()\n",
      "accuracy = (tp + tn) / affair_mod.nobs\n",
      "print \"{:.2%}\".format(accuracy)"
     ],
     "language": "python",
     "metadata": {},
     "outputs": []
    },
    {
     "cell_type": "markdown",
     "metadata": {},
     "source": [
      "* What's the probability of the following person having an affair (in this sample)\n",
      "  * White collar worker\n",
      "  * College graduate\n",
      "  * Husband is a white collar worker\n",
      "  * Rates marriage as 'poor'\n",
      "  * 30 years old\n",
      "  * Married for 10 years\n",
      "  * 2 children\n",
      "  * Mildly religious"
     ]
    },
    {
     "cell_type": "code",
     "collapsed": false,
     "input": [
      "person_x = dict(occupation=3,\n",
      "                educ=16,\n",
      "                occupation_husb=3,\n",
      "                rate_marriage=2,\n",
      "                age=30,\n",
      "                yrs_married=10,\n",
      "                children=2,\n",
      "                religious=2)\n",
      "\n",
      "affair_mod.predict(person_x)"
     ],
     "language": "python",
     "metadata": {},
     "outputs": []
    },
    {
     "cell_type": "markdown",
     "metadata": {},
     "source": [
      "## Time-Series Analysis"
     ]
    },
    {
     "cell_type": "markdown",
     "metadata": {},
     "source": [
      "* Several models available\n",
      "  * AR\n",
      "  * AR(I)MA\n",
      "  * (S)VAR\n",
      "* Also, graphics, filters, diagnostic tests"
     ]
    },
    {
     "cell_type": "markdown",
     "metadata": {},
     "source": [
      "## $CO_2$ emissions data"
     ]
    },
    {
     "cell_type": "code",
     "collapsed": false,
     "input": [
      "dta = sm.datasets.co2.load_pandas().data"
     ],
     "language": "python",
     "metadata": {},
     "outputs": []
    },
    {
     "cell_type": "code",
     "collapsed": false,
     "input": [
      "dta.head()"
     ],
     "language": "python",
     "metadata": {},
     "outputs": []
    },
    {
     "cell_type": "code",
     "collapsed": false,
     "input": [
      "fig, ax = plt.subplots(figsize=(10,8))\n",
      "fig = dta.plot(ax=ax)"
     ],
     "language": "python",
     "metadata": {},
     "outputs": []
    },
    {
     "cell_type": "markdown",
     "metadata": {},
     "source": [
      "* You'll notice some missing valuse in the above\n",
      "* We can use Pandas to do linear interpolation for these values "
     ]
    },
    {
     "cell_type": "code",
     "collapsed": false,
     "input": [
      "dta.co2.interpolate(inplace=True)"
     ],
     "language": "python",
     "metadata": {},
     "outputs": []
    },
    {
     "cell_type": "code",
     "collapsed": false,
     "input": [
      "fig, ax = plt.subplots(figsize=(10,8))\n",
      "fig = dta.plot(ax=ax)"
     ],
     "language": "python",
     "metadata": {},
     "outputs": []
    },
    {
     "cell_type": "markdown",
     "metadata": {},
     "source": [
      "* Resample to monthly data to reduce the noise some\n",
      "* Could have done this without interpolating missing values first"
     ]
    },
    {
     "cell_type": "code",
     "collapsed": false,
     "input": [
      "dta = dta.resample(\"M\")"
     ],
     "language": "python",
     "metadata": {},
     "outputs": []
    },
    {
     "cell_type": "code",
     "collapsed": false,
     "input": [
      "fig, ax = plt.subplots(figsize=(10,8))\n",
      "fig = dta.plot(ax=ax)"
     ],
     "language": "python",
     "metadata": {},
     "outputs": []
    },
    {
     "cell_type": "markdown",
     "metadata": {},
     "source": [
      "### Seasonal Decomposition"
     ]
    },
    {
     "cell_type": "markdown",
     "metadata": {},
     "source": [
      "* Decompose into an additive seasonal, trend, and random component\n",
      "\n",
      "$Y_t = T_t + S_t + e_t$"
     ]
    },
    {
     "cell_type": "code",
     "collapsed": false,
     "input": [
      "res = sm.tsa.seasonal_decompose(dta.co2, model='a')"
     ],
     "language": "python",
     "metadata": {},
     "outputs": []
    },
    {
     "cell_type": "code",
     "collapsed": false,
     "input": [
      "fig = res.plot()\n",
      "fig.set_size_inches(10,14)"
     ],
     "language": "python",
     "metadata": {},
     "outputs": []
    },
    {
     "cell_type": "markdown",
     "metadata": {},
     "source": [
      "* Due to the filtering in the decomposition, we have some missing values at beginning and end \n",
      "* Let's remove those"
     ]
    },
    {
     "cell_type": "code",
     "collapsed": false,
     "input": [
      "y = res.resid.dropna()"
     ],
     "language": "python",
     "metadata": {},
     "outputs": []
    },
    {
     "cell_type": "code",
     "collapsed": false,
     "input": [
      "y.head()"
     ],
     "language": "python",
     "metadata": {},
     "outputs": []
    },
    {
     "cell_type": "markdown",
     "metadata": {},
     "source": [
      "### ARIMA Modeling"
     ]
    },
    {
     "cell_type": "markdown",
     "metadata": {},
     "source": [
      "#### Order Identification"
     ]
    },
    {
     "cell_type": "code",
     "collapsed": false,
     "input": [
      "* Check the **autocorrelation function** (ACF)\n",
      "* And the **partial autocorrelation function** (PACF) "
     ],
     "language": "python",
     "metadata": {},
     "outputs": []
    },
    {
     "cell_type": "code",
     "collapsed": false,
     "input": [
      "fig, axes = plt.subplots(nrows=2, figsize=(8, 10))\n",
      "\n",
      "fig = sm.tsa.graphics.plot_acf(y, ax=axes[0], lags=25)\n",
      "fig = sm.tsa.graphics.plot_pacf(y, ax=axes[1], lags=25)"
     ],
     "language": "python",
     "metadata": {},
     "outputs": []
    },
    {
     "cell_type": "markdown",
     "metadata": {},
     "source": [
      "* For mixed ARMA processes the ACF is a mixture of exponentials and damped sine waves after (q-p) lags. \n",
      "* The PACF is a mixture of exponentials and dampened sine waves after (p-q) lags."
     ]
    },
    {
     "cell_type": "markdown",
     "metadata": {},
     "source": [
      "## Unit Root Tests\n",
      "\n",
      "* There is an outstanding PR to change the interface and add more unit root tests\n",
      "* See [here](https://github.com/statsmodels/statsmodels/pull/1499) for future updates"
     ]
    },
    {
     "cell_type": "code",
     "collapsed": false,
     "input": [
      "unit_root = sm.tsa.adfuller(y)"
     ],
     "language": "python",
     "metadata": {},
     "outputs": []
    },
    {
     "cell_type": "code",
     "collapsed": false,
     "input": [
      "print \"P-value: {}\".format(unit_root[1])"
     ],
     "language": "python",
     "metadata": {},
     "outputs": []
    },
    {
     "cell_type": "markdown",
     "metadata": {},
     "source": [
      " * Null of a unit root is rejected to prefer ARMA to ARIMA\n",
      "\n",
      "### Automatic Order Identifiation\n",
      "\n",
      "* Uses information criteria to select an order for you"
     ]
    },
    {
     "cell_type": "code",
     "collapsed": false,
     "input": [
      "res = sm.tsa.arma_order_select_ic(y, max_ar=12, trend='nc', fit_kw=dict(method='css'))"
     ],
     "language": "python",
     "metadata": {},
     "outputs": []
    },
    {
     "cell_type": "code",
     "collapsed": false,
     "input": [
      "res.bic_min_order"
     ],
     "language": "python",
     "metadata": {},
     "outputs": []
    },
    {
     "cell_type": "code",
     "collapsed": false,
     "input": [
      "res.bic"
     ],
     "language": "python",
     "metadata": {},
     "outputs": []
    },
    {
     "cell_type": "code",
     "collapsed": false,
     "input": [
      "arma_res = sm.tsa.ARMA(y, (4, 1)).fit(trend='nc')"
     ],
     "language": "python",
     "metadata": {},
     "outputs": []
    },
    {
     "cell_type": "code",
     "collapsed": false,
     "input": [
      "print(arma_res.summary())"
     ],
     "language": "python",
     "metadata": {},
     "outputs": []
    },
    {
     "cell_type": "code",
     "collapsed": false,
     "input": [
      "predict = arma_res.predict(start='7-31-2001', end='12-31-2001')"
     ],
     "language": "python",
     "metadata": {},
     "outputs": []
    },
    {
     "cell_type": "code",
     "collapsed": false,
     "input": [
      "predict"
     ],
     "language": "python",
     "metadata": {},
     "outputs": []
    },
    {
     "cell_type": "markdown",
     "metadata": {},
     "source": [
      "* There is a [PR](https://github.com/statsmodels/statsmodels/pull/1563) to add a plotting method for forecasting\n",
      "* We can recreate this plot with the following code"
     ]
    },
    {
     "cell_type": "code",
     "collapsed": false,
     "input": [
      "fig, ax = plt.subplots(figsize=(12,8))\n",
      "\n",
      "predict = arma_res.predict(start='1-31-1995' , end='12-31-2001')\n",
      "_, _, conf_int = arma_res.forecast(6)\n",
      "\n",
      "ax = predict.plot(label='forecast')\n",
      "ax = y.ix[predict.index].plot(label='observed', ax=ax)\n",
      "_ = ax.fill_between(predict.ix['7-31-2001':].index, conf_int[:, 0], conf_int[:, 1],\n",
      "                    color='gray', alpha=.5)\n",
      "legend = ax.legend(loc='best', fontsize=22)\n",
      "lines = legend.get_lines()\n",
      "lines[0].set_linewidth(5)\n",
      "lines[1].set_linewidth(5)"
     ],
     "language": "python",
     "metadata": {},
     "outputs": []
    },
    {
     "cell_type": "markdown",
     "metadata": {},
     "source": [
      "## What's Coming Next?\n",
      "\n",
      "* We have several pull requests that we merging for 0.6.0 as we find the time to\n",
      "  * Survival models\n",
      "  * Exponential Smoothing models\n",
      "  * Panel data models\n",
      "  * Linear mixed models\n",
      "  * Nonlinear models\n",
      "  * Tobit Models\n",
      "  * Seasonal ARIMA\n",
      "  * More"
     ]
    },
    {
     "cell_type": "markdown",
     "metadata": {},
     "source": [
      "## Getting Involved\n",
      "\n",
      "* Join the [mailing list](https://groups.google.com/forum/#!forum/pystatsmodels)\n",
      "* Have a look at the [Issues](https://github.com/statsmodels/statsmodels/issues) on github\n",
      "* Review the current work in [Pull Requests](https://github.com/statsmodels/statsmodels/pulls)\n",
      "* See the [Good as First PR](https://github.com/statsmodels/statsmodels/issues?labels=Good+as+First+PR&page=1&state=open) tag for Issues\n",
      "* For the intrepid, [grin](https://pypi.python.org/pypi/grin) for TODOs in the source comments\n",
      "\n",
      "```bash\n",
      "    grin -i -I \"*.py*\" todo\n",
      "```"
     ]
    }
   ],
   "metadata": {}
  }
 ]
}